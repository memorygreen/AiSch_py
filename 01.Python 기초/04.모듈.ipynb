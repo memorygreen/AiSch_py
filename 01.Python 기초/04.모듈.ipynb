{
 "cells": [
  {
   "cell_type": "code",
   "execution_count": 1,
   "id": "a1214e1e-ef30-4381-816d-54e7dcbf6dbe",
   "metadata": {},
   "outputs": [],
   "source": [
    "A = 1 \n",
    "B = 2\n",
    "\n",
    "def add(*args):\n",
    "    return sum(args)"
   ]
  },
  {
   "cell_type": "code",
   "execution_count": 2,
   "id": "86a45f3f-1a66-4010-a0f6-3eb95f94e598",
   "metadata": {},
   "outputs": [
    {
     "name": "stderr",
     "output_type": "stream",
     "text": [
      "[NbConvertApp] Converting notebook 04.모듈.ipynb to script\n",
      "[NbConvertApp] Writing 401 bytes to 04.모듈.py\n"
     ]
    }
   ],
   "source": [
    "!jupyter nbconvert --to script 04.모듈.ipynb\n",
    "\n",
    "# ! -> python 언어가 아닌 프롬프트 명령어(스크립트문)\n",
    "# jupyter nbconvert : 주피터 파일(ipynb)을 다른 형식으로 변활 할 수 있는 명령어(기본으로 .py로 변환)\n",
    "# -- to : 타겟을 지정\n",
    "# script 파일명 : 타겟의 형식"
   ]
  },
  {
   "cell_type": "code",
   "execution_count": null,
   "id": "81ec6c8a-34b2-4e62-8028-b6982d12a5b2",
   "metadata": {},
   "outputs": [],
   "source": []
  },
  {
   "cell_type": "code",
   "execution_count": null,
   "id": "0234765d-0937-4725-939e-d9521f257e02",
   "metadata": {},
   "outputs": [],
   "source": []
  },
  {
   "cell_type": "code",
   "execution_count": null,
   "id": "451487a5-825d-4ad5-9ca4-c8712c20f50a",
   "metadata": {},
   "outputs": [],
   "source": []
  },
  {
   "cell_type": "code",
   "execution_count": null,
   "id": "1f3cd8e2-9d17-4995-bd37-c499ab85ed7f",
   "metadata": {},
   "outputs": [],
   "source": []
  },
  {
   "cell_type": "code",
   "execution_count": null,
   "id": "4c48a47c-cfce-4484-a82a-15b6fd794553",
   "metadata": {},
   "outputs": [],
   "source": []
  }
 ],
 "metadata": {
  "kernelspec": {
   "display_name": "Python 3 (ipykernel)",
   "language": "python",
   "name": "python3"
  },
  "language_info": {
   "codemirror_mode": {
    "name": "ipython",
    "version": 3
   },
   "file_extension": ".py",
   "mimetype": "text/x-python",
   "name": "python",
   "nbconvert_exporter": "python",
   "pygments_lexer": "ipython3",
   "version": "3.11.7"
  }
 },
 "nbformat": 4,
 "nbformat_minor": 5
}

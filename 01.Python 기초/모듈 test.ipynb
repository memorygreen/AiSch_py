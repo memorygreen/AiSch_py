{
 "cells": [
  {
   "cell_type": "code",
   "execution_count": 1,
   "id": "89081e8b-8962-421b-a6c5-a93d6558efcf",
   "metadata": {},
   "outputs": [
    {
     "name": "stderr",
     "output_type": "stream",
     "text": [
      "[NbConvertApp] Converting notebook 04.모듈.ipynb to script\n",
      "[NbConvertApp] Writing 401 bytes to 04.모듈.py\n"
     ]
    }
   ],
   "source": [
    "# 모듈 불러오기!\n",
    "import 모듈"
   ]
  },
  {
   "cell_type": "code",
   "execution_count": 2,
   "id": "665e36f0-4bd2-437f-8491-b1d6e1c35791",
   "metadata": {},
   "outputs": [
    {
     "data": {
      "text/plain": [
       "1"
      ]
     },
     "execution_count": 2,
     "metadata": {},
     "output_type": "execute_result"
    }
   ],
   "source": [
    "# 속성 가져오기!\n",
    "모듈.A"
   ]
  },
  {
   "cell_type": "code",
   "execution_count": 3,
   "id": "978fc3f3-74f9-46c1-a275-a4c96177ae8e",
   "metadata": {},
   "outputs": [
    {
     "data": {
      "text/plain": [
       "2"
      ]
     },
     "execution_count": 3,
     "metadata": {},
     "output_type": "execute_result"
    }
   ],
   "source": [
    "모듈.B"
   ]
  },
  {
   "cell_type": "code",
   "execution_count": 4,
   "id": "71d040cf-5c2c-4b0d-a48a-9fc25a9f212a",
   "metadata": {},
   "outputs": [
    {
     "data": {
      "text/plain": [
       "10"
      ]
     },
     "execution_count": 4,
     "metadata": {},
     "output_type": "execute_result"
    }
   ],
   "source": [
    "# 기능(함수) 활용하기!\n",
    "모듈.add(1, 2, 3, 4)"
   ]
  },
  {
   "cell_type": "code",
   "execution_count": null,
   "id": "d8d5036c-892c-4d09-a067-d2477dcb1e89",
   "metadata": {},
   "outputs": [],
   "source": []
  },
  {
   "cell_type": "code",
   "execution_count": null,
   "id": "ad017580-5bdf-44fb-a5e5-519e7b87f752",
   "metadata": {},
   "outputs": [],
   "source": []
  },
  {
   "cell_type": "code",
   "execution_count": null,
   "id": "8dd43229-7a96-4f9f-be3b-b03eee7764c7",
   "metadata": {},
   "outputs": [],
   "source": []
  },
  {
   "cell_type": "code",
   "execution_count": null,
   "id": "bd7c53d4-527f-41a4-bf8b-eeff0ace3341",
   "metadata": {},
   "outputs": [],
   "source": []
  }
 ],
 "metadata": {
  "kernelspec": {
   "display_name": "Python 3 (ipykernel)",
   "language": "python",
   "name": "python3"
  },
  "language_info": {
   "codemirror_mode": {
    "name": "ipython",
    "version": 3
   },
   "file_extension": ".py",
   "mimetype": "text/x-python",
   "name": "python",
   "nbconvert_exporter": "python",
   "pygments_lexer": "ipython3",
   "version": "3.11.7"
  }
 },
 "nbformat": 4,
 "nbformat_minor": 5
}

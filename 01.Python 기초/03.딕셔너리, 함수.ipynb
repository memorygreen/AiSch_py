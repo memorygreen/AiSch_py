{
 "cells": [
  {
   "cell_type": "markdown",
   "id": "0477a382-b81d-4929-a672-5c3e802bedf2",
   "metadata": {},
   "source": [
    "### 딕셔너리(dictionary)\n",
    "- 파이썬에서 제공되는 자료형 중 하나\n",
    "- 말 그대로 사전\n",
    "- {key : value, key : value,...}\n",
    "- 각각의 속성이나 개성을 표현할 때 딕셔너리 활용\n",
    "- 순서가 없는 객체의 집합"
   ]
  },
  {
   "cell_type": "code",
   "execution_count": 4,
   "id": "e3f45e7c-d2e6-41ec-96cd-7471c506bff5",
   "metadata": {},
   "outputs": [
    {
     "data": {
      "text/plain": [
       "{'key': 'value', 'name': 'JH', 'age': 19, 'phone': '010-1234-5566'}"
      ]
     },
     "execution_count": 4,
     "metadata": {},
     "output_type": "execute_result"
    }
   ],
   "source": [
    "dict1 = {\"key\" : \"value\", \"name\" : \"JH\", \"age\" : 19, \"phone\" : \"010-1234-5566\"}\n",
    "dict1"
   ]
  },
  {
   "cell_type": "code",
   "execution_count": 5,
   "id": "ecbb2d86-03cc-4ee4-96c0-c554455994ca",
   "metadata": {},
   "outputs": [],
   "source": [
    "# 추가 : 없는 key값을 지정(인덱싱)하고 대입\n",
    "dict1[\"birth\"] = \"01/01\" # 없는 키값을 대입하고 지정하면 됨"
   ]
  },
  {
   "cell_type": "code",
   "execution_count": 6,
   "id": "dadd4da5-7647-4fe0-b8c1-b0747e56682d",
   "metadata": {},
   "outputs": [
    {
     "data": {
      "text/plain": [
       "{'key': 'value',\n",
       " 'name': 'JH',\n",
       " 'age': 19,\n",
       " 'phone': '010-1234-5566',\n",
       " 'birth': '01/01'}"
      ]
     },
     "execution_count": 6,
     "metadata": {},
     "output_type": "execute_result"
    }
   ],
   "source": [
    "dict1"
   ]
  },
  {
   "cell_type": "code",
   "execution_count": 7,
   "id": "a9929e87-8e7a-434f-9a35-06bb7f556edb",
   "metadata": {},
   "outputs": [],
   "source": [
    "# 수정 : 있는 key값을 지정(인덱싱)하고 대입\n",
    "dict1[\"phone\"] = \"010-1111-1111\" # 있는 키값을 대입하고 지정하면 됨"
   ]
  },
  {
   "cell_type": "code",
   "execution_count": 8,
   "id": "0d8c36ec-a4f9-4f84-bbe3-2713f265862b",
   "metadata": {},
   "outputs": [
    {
     "data": {
      "text/plain": [
       "{'key': 'value',\n",
       " 'name': 'JH',\n",
       " 'age': 19,\n",
       " 'phone': '010-1111-1111',\n",
       " 'birth': '01/01'}"
      ]
     },
     "execution_count": 8,
     "metadata": {},
     "output_type": "execute_result"
    }
   ],
   "source": [
    "dict1"
   ]
  },
  {
   "cell_type": "code",
   "execution_count": 9,
   "id": "184575a8-302f-4f64-8033-921c845d4b15",
   "metadata": {},
   "outputs": [
    {
     "data": {
      "text/plain": [
       "{'key': 'value', 'name': 'JH', 'age': 19, 'phone': '010-1111-1111'}"
      ]
     },
     "execution_count": 9,
     "metadata": {},
     "output_type": "execute_result"
    }
   ],
   "source": [
    "# 삭제\n",
    "del dict1['birth']\n",
    "dict1"
   ]
  },
  {
   "cell_type": "code",
   "execution_count": 10,
   "id": "e3b1a54d-317e-4602-beba-abf151c7d713",
   "metadata": {},
   "outputs": [
    {
     "data": {
      "text/plain": [
       "'JH'"
      ]
     },
     "execution_count": 10,
     "metadata": {},
     "output_type": "execute_result"
    }
   ],
   "source": [
    "dict1[\"name\"] # 딕셔너리 인덱싱"
   ]
  },
  {
   "cell_type": "code",
   "execution_count": 11,
   "id": "caa483e4-7627-48e1-9ffa-7008c349ad76",
   "metadata": {},
   "outputs": [
    {
     "data": {
      "text/plain": [
       "dict_keys(['key', 'name', 'age', 'phone'])"
      ]
     },
     "execution_count": 11,
     "metadata": {},
     "output_type": "execute_result"
    }
   ],
   "source": [
    "# key값들만 확인\n",
    "list{dict1.keys())[2] # key값을 지정하고자 하는 경우, 딕셔너리는 순서가 없기 때문에 순서를 만들어주면됨! -> 형변환!"
   ]
  },
  {
   "cell_type": "code",
   "execution_count": 12,
   "id": "d3d05935-2673-4b3d-ac8b-3f1954fe9338",
   "metadata": {},
   "outputs": [
    {
     "data": {
      "text/plain": [
       "dict_values(['value', 'JH', 19, '010-1111-1111'])"
      ]
     },
     "execution_count": 12,
     "metadata": {},
     "output_type": "execute_result"
    }
   ],
   "source": [
    "# value들만 확인\n",
    "dict1.values()"
   ]
  },
  {
   "cell_type": "code",
   "execution_count": 20,
   "id": "118b4dc9-7a8c-4802-a57b-49386b779906",
   "metadata": {},
   "outputs": [
    {
     "data": {
      "text/plain": [
       "'010-1111-1111'"
      ]
     },
     "execution_count": 20,
     "metadata": {},
     "output_type": "execute_result"
    }
   ],
   "source": [
    "# key와 value를 확인\n",
    "list(dict1.items())[-1][1]"
   ]
  },
  {
   "cell_type": "code",
   "execution_count": 34,
   "id": "3eed327e-76b1-470b-aa9f-0fe55a625434",
   "metadata": {},
   "outputs": [
    {
     "name": "stdout",
     "output_type": "stream",
     "text": [
      "name\n",
      "JH\n",
      "\n",
      "age\n",
      "19\n",
      "\n",
      "phone\n",
      "010-1111-1111\n",
      "\n"
     ]
    }
   ],
   "source": [
    "# 반복문 활용\n",
    "# 딕셔너리에서 특정범위만큼 들여다 보고싶은 경우 list로 형변환 후 슬라이싱 사용\n",
    "\n",
    "# 튜플로 패킹되어 있는 요소를 들여다 볼때, 각 개수만큼 변수를 선언해서 반복문을 활용!\n",
    "for key,value in list(dict1.items())[1:] :     \n",
    "    print(key)\n",
    "    print(value)\n",
    "    print()"
   ]
  },
  {
   "cell_type": "markdown",
   "id": "04499a41-43cb-4455-955b-243c9dbca4ca",
   "metadata": {},
   "source": [
    "### 함수(Function)\n",
    "- <b>호출</b> 될 때 <b>특정 기능을 수행</b>하는 <b>재사용 가능</b>한 코드블록"
   ]
  },
  {
   "cell_type": "markdown",
   "id": "b88c2fda-7999-4017-801f-5e7d66da14bd",
   "metadata": {},
   "source": [
    "- 함수 정의\n",
    "``` python\n",
    "def 함수명(매개변수) : \n",
    "    코드블럭\n",
    "    return 결과값\n",
    "```\n",
    "\n",
    "- 함수 호출\n",
    "``` python\n",
    "함수명(인수)\n",
    "```"
   ]
  },
  {
   "cell_type": "code",
   "execution_count": 43,
   "id": "e6abfa16-678d-4d2d-97b2-43472ee10e16",
   "metadata": {},
   "outputs": [],
   "source": [
    "# 함수 정의\n",
    "def add(a, b=5) : # 함수 정의 시 기본값을 세팅할 수 있다\n",
    "    print(f\"a : {a}\")\n",
    "    print(f\"b : {b}\")\n",
    "    \n",
    "    result = a + b\n",
    "    return result"
   ]
  },
  {
   "cell_type": "code",
   "execution_count": 45,
   "id": "c534fb8c-5729-4595-b4fd-3266c2905c11",
   "metadata": {},
   "outputs": [
    {
     "name": "stdout",
     "output_type": "stream",
     "text": [
      "a : 1\n",
      "b : 7\n"
     ]
    },
    {
     "data": {
      "text/plain": [
       "8"
      ]
     },
     "execution_count": 45,
     "metadata": {},
     "output_type": "execute_result"
    }
   ],
   "source": [
    "# 함수 호출\n",
    "num1 = 1\n",
    "num2 = 2\n",
    "\n",
    "add(num1, b=7) # 매개변수를 지정해서 호출 시 순서 상관 없이 전달"
   ]
  },
  {
   "cell_type": "code",
   "execution_count": 48,
   "id": "96ade6cb-e857-4867-a066-cb3d4a41f60e",
   "metadata": {},
   "outputs": [
    {
     "name": "stdout",
     "output_type": "stream",
     "text": [
      "안녕하세요반갑습니다\n"
     ]
    }
   ],
   "source": [
    "print(\"안녕\", end = \"\")\n",
    "print(\"하세요\",\"반갑습니다\", sep =\"\")"
   ]
  },
  {
   "cell_type": "markdown",
   "id": "9e330104-5468-4285-b277-d11397250722",
   "metadata": {},
   "source": [
    "### 함수의 특성\n",
    "1. 매개변수의 순서대로 인자값이 전달\n",
    "2. 매개변수를 지정해서 호출 시 순서 상관 없이 전달\n",
    "3. 함수 정의 시 기본값을 세팅\n",
    "4. return 결과값은 언제나 하나!\n",
    "5. 입력값이나 결괏값이 있을 수도 있고, 없을 수도 있음!"
   ]
  },
  {
   "cell_type": "code",
   "execution_count": 55,
   "id": "3ebe0a90-c599-4834-a4f2-c31e9c4f690a",
   "metadata": {},
   "outputs": [],
   "source": [
    "# return의 결괏값은 언제나 하나!\n",
    "def add_mul(a, b) : \n",
    "    return a + b, a * b"
   ]
  },
  {
   "cell_type": "code",
   "execution_count": 54,
   "id": "69e7fc90-708c-48d3-b11a-9466031e7eb2",
   "metadata": {},
   "outputs": [
    {
     "data": {
      "text/plain": [
       "(11, 28)"
      ]
     },
     "execution_count": 54,
     "metadata": {},
     "output_type": "execute_result"
    }
   ],
   "source": [
    "add_mul(4, 7)"
   ]
  },
  {
   "cell_type": "code",
   "execution_count": 57,
   "id": "78b0b149-f71b-455f-920a-3996ea293bf9",
   "metadata": {},
   "outputs": [],
   "source": [
    "# 입력값이나 결괏값이 있을 수도 있고, 없을 수도 있음!\n",
    "\n",
    "# 입력값이 있고, 결괏값이 있는 함수!\n",
    "def say() : \n",
    "    return \"Hi\""
   ]
  },
  {
   "cell_type": "code",
   "execution_count": 59,
   "id": "e559300c-9418-4b5b-8e17-63ca6d9a7e8f",
   "metadata": {},
   "outputs": [
    {
     "data": {
      "text/plain": [
       "'Hi'"
      ]
     },
     "execution_count": 59,
     "metadata": {},
     "output_type": "execute_result"
    }
   ],
   "source": [
    "a = say()\n",
    "a"
   ]
  },
  {
   "cell_type": "code",
   "execution_count": 60,
   "id": "0025eae6-0dd4-4d84-969f-bde52dfd0ad4",
   "metadata": {},
   "outputs": [],
   "source": [
    "# 입력값과 결괏값이 없는 함수!\n",
    "def say() : \n",
    "    print(\"Hi\")"
   ]
  },
  {
   "cell_type": "code",
   "execution_count": 63,
   "id": "ecb5ec38-e3d7-4980-87ce-a124f140eb53",
   "metadata": {},
   "outputs": [
    {
     "name": "stdout",
     "output_type": "stream",
     "text": [
      "Hi\n",
      "None\n"
     ]
    }
   ],
   "source": [
    "a = say()\n",
    "print(a)"
   ]
  },
  {
   "cell_type": "code",
   "execution_count": 65,
   "id": "a3d4205e-f081-4354-94b4-e972312a17bd",
   "metadata": {},
   "outputs": [],
   "source": [
    "# 만약에 내가 만든 함수를 다른 개발자가 보고 이해할 수 없다면...?\n",
    "# Docstirng(독스트링) : 함수의 설명문\n",
    "def add(a, b=5) : # 함수 정의 시 기본값을 세팅할 수 있다\n",
    "    \"\"\"독스트링 입니당, 더해주는 함수임!\"\"\"\n",
    "    print(f\"a : {a}\")\n",
    "    print(f\"b : {b}\")\n",
    "\n",
    "    result = a + b\n",
    "    return result"
   ]
  },
  {
   "cell_type": "code",
   "execution_count": 76,
   "id": "afc85961-6b55-4354-a710-29cb04511651",
   "metadata": {},
   "outputs": [],
   "source": [
    "# 입력값의 개수가 정해져 있지 않다면....?\n",
    "# 가변매개변수(*) : 함수 호출 시 몇 개의 인수가 전달 될 지 알 수 없다면, 호출자 입장에서 매개변수의 개수를 정할 수 있도록 선언\n",
    "def add(*args) :\n",
    "    # print(args)\n",
    "    result = sum(args)\n",
    "    return result"
   ]
  },
  {
   "cell_type": "code",
   "execution_count": 75,
   "id": "8d815f37-22b3-48de-98ac-e9bd549987e4",
   "metadata": {},
   "outputs": [
    {
     "data": {
      "text/plain": [
       "10"
      ]
     },
     "execution_count": 75,
     "metadata": {},
     "output_type": "execute_result"
    }
   ],
   "source": [
    "add(1,2,3,4)"
   ]
  },
  {
   "cell_type": "code",
   "execution_count": 80,
   "id": "dbc3b420-c100-47b2-9cf6-326b6c5bfdfe",
   "metadata": {},
   "outputs": [
    {
     "name": "stdout",
     "output_type": "stream",
     "text": [
      "{'일본', '한국', '중국'}\n"
     ]
    }
   ],
   "source": [
    "# 집합\n",
    "# 중괄호 -> 중복 없음, 순서 없음\n",
    "set1 = {\"한국\", \"일본\", \"중국\", \"한국\"}\n",
    "print(set1)"
   ]
  },
  {
   "cell_type": "code",
   "execution_count": null,
   "id": "a6aaa2fb-153c-4dbb-8a23-44387b48f5fc",
   "metadata": {},
   "outputs": [],
   "source": []
  },
  {
   "cell_type": "code",
   "execution_count": null,
   "id": "6290feaf-6870-41c1-83b2-880961abb710",
   "metadata": {},
   "outputs": [],
   "source": []
  },
  {
   "cell_type": "code",
   "execution_count": null,
   "id": "6562f9e9-9046-4c69-8017-fa6df78317a3",
   "metadata": {},
   "outputs": [],
   "source": []
  },
  {
   "cell_type": "code",
   "execution_count": null,
   "id": "af327569-0aa3-47e1-b593-eab261d272d9",
   "metadata": {},
   "outputs": [],
   "source": []
  },
  {
   "cell_type": "code",
   "execution_count": null,
   "id": "fdc4ecd0-124a-486f-8ff6-7334cff26d01",
   "metadata": {},
   "outputs": [],
   "source": []
  },
  {
   "cell_type": "code",
   "execution_count": null,
   "id": "6d45e344-9be8-431f-a697-c4813ba02886",
   "metadata": {},
   "outputs": [],
   "source": []
  },
  {
   "cell_type": "code",
   "execution_count": null,
   "id": "8efe38e4-fbb5-47f7-a85c-c481ee291d83",
   "metadata": {},
   "outputs": [],
   "source": []
  },
  {
   "cell_type": "code",
   "execution_count": null,
   "id": "842a91bb-3e49-4094-a553-013f7405e220",
   "metadata": {},
   "outputs": [],
   "source": []
  },
  {
   "cell_type": "code",
   "execution_count": null,
   "id": "552a124a-086f-4f4a-aa61-e2dab1d29033",
   "metadata": {},
   "outputs": [],
   "source": []
  },
  {
   "cell_type": "code",
   "execution_count": null,
   "id": "96fc937d-e4c5-42c6-be33-54d06ba7ab52",
   "metadata": {},
   "outputs": [],
   "source": []
  },
  {
   "cell_type": "code",
   "execution_count": null,
   "id": "55837747-a00d-4005-81d4-ef97d80140f0",
   "metadata": {},
   "outputs": [],
   "source": []
  },
  {
   "cell_type": "code",
   "execution_count": null,
   "id": "263a0261-5512-47e1-a66e-608301fad2ba",
   "metadata": {},
   "outputs": [],
   "source": []
  },
  {
   "cell_type": "code",
   "execution_count": null,
   "id": "7ea75d9c-4393-48d6-9932-13fe2d768a11",
   "metadata": {},
   "outputs": [],
   "source": []
  }
 ],
 "metadata": {
  "kernelspec": {
   "display_name": "Python 3 (ipykernel)",
   "language": "python",
   "name": "python3"
  },
  "language_info": {
   "codemirror_mode": {
    "name": "ipython",
    "version": 3
   },
   "file_extension": ".py",
   "mimetype": "text/x-python",
   "name": "python",
   "nbconvert_exporter": "python",
   "pygments_lexer": "ipython3",
   "version": "3.11.7"
  }
 },
 "nbformat": 4,
 "nbformat_minor": 5
}
